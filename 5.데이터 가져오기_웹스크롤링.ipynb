{
 "cells": [
  {
   "cell_type": "markdown",
   "metadata": {},
   "source": [
    "# 웹스크롤링"
   ]
  },
  {
   "cell_type": "code",
   "execution_count": 16,
   "metadata": {},
   "outputs": [],
   "source": [
    "def trans(x):\n",
    "    dic = {}\n",
    "    dic['북']=360\n",
    "    dic['북북동']=20\n",
    "    dic['북동']=50\n",
    "    dic['동북동']=70\n",
    "    dic['동']=90\n",
    "    dic['동남동']=110\n",
    "    dic['남동']=140\n",
    "    dic['남남동']=160\n",
    "    dic['남']=180\n",
    "    dic['남남서']=200\n",
    "    dic['남서']=230\n",
    "    dic['서남서']=250\n",
    "    dic['서']=270\n",
    "    dic['서북서']=290\n",
    "    dic['북서']=320\n",
    "    dic['북북서']=340\n",
    "    return dic[x] "
   ]
  },
  {
   "cell_type": "code",
   "execution_count": null,
   "metadata": {},
   "outputs": [],
   "source": [
    "#http://www.weather.go.kr/mini/marine/marine_buoy.jsp?type=table&stn=0&tm=2018.10.16.15%3a30&dtm=1"
   ]
  },
  {
   "cell_type": "code",
   "execution_count": 9,
   "metadata": {},
   "outputs": [],
   "source": [
    "cc = '추자도'"
   ]
  },
  {
   "cell_type": "code",
   "execution_count": 22,
   "metadata": {},
   "outputs": [],
   "source": [
    "import pandas as pd"
   ]
  },
  {
   "cell_type": "code",
   "execution_count": 2,
   "metadata": {},
   "outputs": [],
   "source": [
    "from selenium import webdriver\n",
    "from selenium.webdriver.chrome.options import Options\n",
    "from bs4 import BeautifulSoup\n",
    "from urllib.request import urlopen\n",
    "import re"
   ]
  },
  {
   "cell_type": "code",
   "execution_count": 3,
   "metadata": {},
   "outputs": [],
   "source": [
    "options = Options()\n",
    "options.add_argument('--kiosk')\n",
    "\n",
    "driver = webdriver.Chrome('C:/Users/hjo22/driver/chromedriver.exe', chrome_options=options)\n",
    "driver.get(\"http://www.weather.go.kr/mini/marine/marine_buoy.jsp?type=table&stn=0\")"
   ]
  },
  {
   "cell_type": "code",
   "execution_count": 5,
   "metadata": {},
   "outputs": [],
   "source": [
    "xpath_b = \"\"\"//*[@id=\"observation_select2\"]\"\"\"\n",
    "bu_list_raw = driver.find_element_by_xpath(xpath_b)\n",
    "\n",
    "bu_list = bu_list_raw.find_elements_by_tag_name(\"option\")\n",
    "bu_names = [option.text for option in bu_list]"
   ]
  },
  {
   "cell_type": "code",
   "execution_count": 7,
   "metadata": {},
   "outputs": [],
   "source": [
    "element = driver.find_element_by_id(\"observation_select2\")"
   ]
  },
  {
   "cell_type": "code",
   "execution_count": 10,
   "metadata": {},
   "outputs": [],
   "source": [
    "for i in range(0, len(bu_names)):\n",
    "    if bu_names[i] == cc:\n",
    "        element.send_keys(bu_names[i])"
   ]
  },
  {
   "cell_type": "code",
   "execution_count": 11,
   "metadata": {},
   "outputs": [],
   "source": [
    "driver.find_element_by_class_name(\"btn\").click()"
   ]
  },
  {
   "cell_type": "code",
   "execution_count": 12,
   "metadata": {},
   "outputs": [
    {
     "data": {
      "text/plain": [
       "[<script>writeWindSpeed('8.3', false,'','',1);</script>,\n",
       " <script>writeWindSpeed('10.5', false,'','',1);</script>]"
      ]
     },
     "execution_count": 12,
     "metadata": {},
     "output_type": "execute_result"
    }
   ],
   "source": [
    "html = driver.page_source\n",
    "soup = BeautifulSoup(html, 'html.parser')\n",
    "\n",
    "tbody_soup = soup.find('tbody')\n",
    "tr_soup = tbody_soup.find('tr')\n",
    "    \n",
    "[s.extract() for s in tr_soup('script')]"
   ]
  },
  {
   "cell_type": "code",
   "execution_count": 13,
   "metadata": {},
   "outputs": [],
   "source": [
    "hello = tr_soup.get_text()\n",
    "hello2 = re.split(('\\n'), hello)\n",
    "\n",
    "test =hello2[1:10]\n",
    "test.append(hello2[12])\n",
    "test.append(hello2[13])"
   ]
  },
  {
   "cell_type": "code",
   "execution_count": 14,
   "metadata": {},
   "outputs": [],
   "source": [
    "count = 0\n",
    "for i in test:\n",
    "    if (i == '\\xa0')|(i==\"\"):\n",
    "        count +=1"
   ]
  },
  {
   "cell_type": "code",
   "execution_count": 17,
   "metadata": {},
   "outputs": [],
   "source": [
    "if count == 0:\n",
    "    t1 = trans(test[1])\n",
    "    t2 = trans(test[10])\n",
    "    test[1] = t1\n",
    "    test[10] = t2\n",
    "    driver.close()\n",
    "else:\n",
    "    for i in range(1, 11):\n",
    "        if test[i] == '\\xa0':\n",
    "            test[i]=0\n",
    "        elif test[i]== '':\n",
    "            test[i]=0\n",
    "    river.close()"
   ]
  },
  {
   "cell_type": "code",
   "execution_count": 20,
   "metadata": {},
   "outputs": [
    {
     "name": "stdout",
     "output_type": "stream",
     "text": [
      "추자도\n",
      "['07일 23시 30분', 90, '8.3', '10.5', '1020.1', '88', '17.3', '17.6', '1.9', '5.3', 250]\n"
     ]
    }
   ],
   "source": [
    "print(cc)\n",
    "print(test)"
   ]
  },
  {
   "cell_type": "code",
   "execution_count": null,
   "metadata": {},
   "outputs": [],
   "source": []
  }
 ],
 "metadata": {
  "kernelspec": {
   "display_name": "Python 3",
   "language": "python",
   "name": "python3"
  },
  "language_info": {
   "codemirror_mode": {
    "name": "ipython",
    "version": 3
   },
   "file_extension": ".py",
   "mimetype": "text/x-python",
   "name": "python",
   "nbconvert_exporter": "python",
   "pygments_lexer": "ipython3",
   "version": "3.6.6"
  }
 },
 "nbformat": 4,
 "nbformat_minor": 2
}
