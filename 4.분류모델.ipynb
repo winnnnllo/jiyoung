{
 "cells": [
  {
   "cell_type": "markdown",
   "metadata": {},
   "source": [
    "# 분류모델"
   ]
  },
  {
   "cell_type": "code",
   "execution_count": 1,
   "metadata": {},
   "outputs": [],
   "source": [
    "import pandas as pd\n",
    "import numpy as np"
   ]
  },
  {
   "cell_type": "code",
   "execution_count": 2,
   "metadata": {},
   "outputs": [],
   "source": [
    "from sklearn import svm, metrics\n",
    "from sklearn.model_selection import train_test_split\n",
    "from sklearn.metrics import accuracy_score\n",
    "from sklearn.metrics import confusion_matrix\n",
    "from sklearn.preprocessing import StandardScaler"
   ]
  },
  {
   "cell_type": "code",
   "execution_count": 1,
   "metadata": {},
   "outputs": [],
   "source": [
    "import matplotlib as mpl\n",
    "import matplotlib.pylab as plt\n",
    "%matplotlib inline"
   ]
  },
  {
   "cell_type": "code",
   "execution_count": 21,
   "metadata": {},
   "outputs": [],
   "source": [
    "import seaborn as sns"
   ]
  },
  {
   "cell_type": "code",
   "execution_count": 36,
   "metadata": {},
   "outputs": [],
   "source": [
    "import platform\n",
    "\n",
    "from matplotlib import font_manager, rc\n",
    "plt.rcParams['axes.unicode_minus'] = False\n",
    "\n",
    "if  platform.system() == 'Darwin':\n",
    "    rc('font', family = 'AppleGothic')\n",
    "elif platform.system() == 'Windows':\n",
    "    path = \"c:/Windows/Fonts/malgun.ttf\"\n",
    "    font_name = font_manager.FontProperties(fname = path).get_name()\n",
    "    rc('font', family = font_name)\n",
    "else:\n",
    "    print('Unknown system...Sorry')"
   ]
  },
  {
   "cell_type": "code",
   "execution_count": 4,
   "metadata": {},
   "outputs": [],
   "source": [
    "test_set = pd.read_csv('C:.../test_set.csv', encoding='euc-kr',engine='python')\n",
    "#데이터가 저장되어있는 폴더에서 파일불러오기 "
   ]
  },
  {
   "cell_type": "code",
   "execution_count": 5,
   "metadata": {},
   "outputs": [],
   "source": [
    "train_set = pd.read_csv('C:.../5train_set2.csv', encoding='euc-kr',engine='python')"
   ]
  },
  {
   "cell_type": "code",
   "execution_count": 6,
   "metadata": {},
   "outputs": [],
   "source": [
    "del test_set['Unnamed: 0']\n",
    "del train_set['Unnamed: 0']"
   ]
  },
  {
   "cell_type": "code",
   "execution_count": 7,
   "metadata": {},
   "outputs": [
    {
     "data": {
      "text/html": [
       "<div>\n",
       "<style scoped>\n",
       "    .dataframe tbody tr th:only-of-type {\n",
       "        vertical-align: middle;\n",
       "    }\n",
       "\n",
       "    .dataframe tbody tr th {\n",
       "        vertical-align: top;\n",
       "    }\n",
       "\n",
       "    .dataframe thead th {\n",
       "        text-align: right;\n",
       "    }\n",
       "</style>\n",
       "<table border=\"1\" class=\"dataframe\">\n",
       "  <thead>\n",
       "    <tr style=\"text-align: right;\">\n",
       "      <th></th>\n",
       "      <th>풍속</th>\n",
       "      <th>풍향</th>\n",
       "      <th>gust</th>\n",
       "      <th>기압</th>\n",
       "      <th>습도</th>\n",
       "      <th>기온</th>\n",
       "      <th>수온</th>\n",
       "      <th>최대파고</th>\n",
       "      <th>유의파고</th>\n",
       "      <th>평균파고</th>\n",
       "      <th>파주기</th>\n",
       "      <th>파향</th>\n",
       "      <th>label</th>\n",
       "    </tr>\n",
       "  </thead>\n",
       "  <tbody>\n",
       "    <tr>\n",
       "      <th>0</th>\n",
       "      <td>15.4</td>\n",
       "      <td>352.0</td>\n",
       "      <td>22.6</td>\n",
       "      <td>1010.6</td>\n",
       "      <td>81.0</td>\n",
       "      <td>5.4</td>\n",
       "      <td>14.7</td>\n",
       "      <td>12.7</td>\n",
       "      <td>8.0</td>\n",
       "      <td>4.0</td>\n",
       "      <td>6.4</td>\n",
       "      <td>16.0</td>\n",
       "      <td>0</td>\n",
       "    </tr>\n",
       "    <tr>\n",
       "      <th>1</th>\n",
       "      <td>7.0</td>\n",
       "      <td>211.0</td>\n",
       "      <td>7.9</td>\n",
       "      <td>1000.8</td>\n",
       "      <td>93.0</td>\n",
       "      <td>20.1</td>\n",
       "      <td>18.7</td>\n",
       "      <td>1.1</td>\n",
       "      <td>0.7</td>\n",
       "      <td>0.5</td>\n",
       "      <td>3.8</td>\n",
       "      <td>340.0</td>\n",
       "      <td>0</td>\n",
       "    </tr>\n",
       "    <tr>\n",
       "      <th>2</th>\n",
       "      <td>5.7</td>\n",
       "      <td>306.0</td>\n",
       "      <td>7.4</td>\n",
       "      <td>1019.0</td>\n",
       "      <td>97.0</td>\n",
       "      <td>7.0</td>\n",
       "      <td>6.2</td>\n",
       "      <td>0.6</td>\n",
       "      <td>0.3</td>\n",
       "      <td>0.2</td>\n",
       "      <td>3.6</td>\n",
       "      <td>274.0</td>\n",
       "      <td>0</td>\n",
       "    </tr>\n",
       "    <tr>\n",
       "      <th>3</th>\n",
       "      <td>5.7</td>\n",
       "      <td>185.0</td>\n",
       "      <td>6.9</td>\n",
       "      <td>1008.2</td>\n",
       "      <td>93.0</td>\n",
       "      <td>12.2</td>\n",
       "      <td>10.3</td>\n",
       "      <td>0.5</td>\n",
       "      <td>0.3</td>\n",
       "      <td>0.2</td>\n",
       "      <td>3.6</td>\n",
       "      <td>284.0</td>\n",
       "      <td>0</td>\n",
       "    </tr>\n",
       "    <tr>\n",
       "      <th>4</th>\n",
       "      <td>2.5</td>\n",
       "      <td>8.0</td>\n",
       "      <td>3.3</td>\n",
       "      <td>1018.0</td>\n",
       "      <td>97.0</td>\n",
       "      <td>16.1</td>\n",
       "      <td>17.0</td>\n",
       "      <td>0.8</td>\n",
       "      <td>0.5</td>\n",
       "      <td>0.2</td>\n",
       "      <td>4.3</td>\n",
       "      <td>289.0</td>\n",
       "      <td>0</td>\n",
       "    </tr>\n",
       "  </tbody>\n",
       "</table>\n",
       "</div>"
      ],
      "text/plain": [
       "     풍속     풍향  gust      기압    습도    기온    수온  최대파고  유의파고  평균파고  파주기     파향  \\\n",
       "0  15.4  352.0  22.6  1010.6  81.0   5.4  14.7  12.7   8.0   4.0  6.4   16.0   \n",
       "1   7.0  211.0   7.9  1000.8  93.0  20.1  18.7   1.1   0.7   0.5  3.8  340.0   \n",
       "2   5.7  306.0   7.4  1019.0  97.0   7.0   6.2   0.6   0.3   0.2  3.6  274.0   \n",
       "3   5.7  185.0   6.9  1008.2  93.0  12.2  10.3   0.5   0.3   0.2  3.6  284.0   \n",
       "4   2.5    8.0   3.3  1018.0  97.0  16.1  17.0   0.8   0.5   0.2  4.3  289.0   \n",
       "\n",
       "   label  \n",
       "0      0  \n",
       "1      0  \n",
       "2      0  \n",
       "3      0  \n",
       "4      0  "
      ]
     },
     "execution_count": 7,
     "metadata": {},
     "output_type": "execute_result"
    }
   ],
   "source": [
    "test_set.head()"
   ]
  },
  {
   "cell_type": "code",
   "execution_count": 8,
   "metadata": {},
   "outputs": [
    {
     "data": {
      "text/html": [
       "<div>\n",
       "<style scoped>\n",
       "    .dataframe tbody tr th:only-of-type {\n",
       "        vertical-align: middle;\n",
       "    }\n",
       "\n",
       "    .dataframe tbody tr th {\n",
       "        vertical-align: top;\n",
       "    }\n",
       "\n",
       "    .dataframe thead th {\n",
       "        text-align: right;\n",
       "    }\n",
       "</style>\n",
       "<table border=\"1\" class=\"dataframe\">\n",
       "  <thead>\n",
       "    <tr style=\"text-align: right;\">\n",
       "      <th></th>\n",
       "      <th>풍속</th>\n",
       "      <th>풍향</th>\n",
       "      <th>gust</th>\n",
       "      <th>기압</th>\n",
       "      <th>습도</th>\n",
       "      <th>기온</th>\n",
       "      <th>수온</th>\n",
       "      <th>최대파고</th>\n",
       "      <th>유의파고</th>\n",
       "      <th>평균파고</th>\n",
       "      <th>파주기</th>\n",
       "      <th>파향</th>\n",
       "      <th>label</th>\n",
       "    </tr>\n",
       "  </thead>\n",
       "  <tbody>\n",
       "    <tr>\n",
       "      <th>0</th>\n",
       "      <td>11.5</td>\n",
       "      <td>6.0</td>\n",
       "      <td>18.0</td>\n",
       "      <td>1015.5</td>\n",
       "      <td>84.0</td>\n",
       "      <td>-2.5</td>\n",
       "      <td>8.0</td>\n",
       "      <td>3.6</td>\n",
       "      <td>2.4</td>\n",
       "      <td>1.7</td>\n",
       "      <td>6.4</td>\n",
       "      <td>131.0</td>\n",
       "      <td>0</td>\n",
       "    </tr>\n",
       "    <tr>\n",
       "      <th>1</th>\n",
       "      <td>9.2</td>\n",
       "      <td>357.0</td>\n",
       "      <td>12.0</td>\n",
       "      <td>1020.1</td>\n",
       "      <td>91.0</td>\n",
       "      <td>4.5</td>\n",
       "      <td>13.1</td>\n",
       "      <td>2.3</td>\n",
       "      <td>1.5</td>\n",
       "      <td>1.0</td>\n",
       "      <td>10.7</td>\n",
       "      <td>266.0</td>\n",
       "      <td>0</td>\n",
       "    </tr>\n",
       "    <tr>\n",
       "      <th>2</th>\n",
       "      <td>4.2</td>\n",
       "      <td>31.0</td>\n",
       "      <td>5.4</td>\n",
       "      <td>1012.7</td>\n",
       "      <td>87.0</td>\n",
       "      <td>25.2</td>\n",
       "      <td>26.5</td>\n",
       "      <td>2.3</td>\n",
       "      <td>1.4</td>\n",
       "      <td>1.0</td>\n",
       "      <td>5.8</td>\n",
       "      <td>161.0</td>\n",
       "      <td>0</td>\n",
       "    </tr>\n",
       "    <tr>\n",
       "      <th>3</th>\n",
       "      <td>4.8</td>\n",
       "      <td>262.0</td>\n",
       "      <td>5.8</td>\n",
       "      <td>1008.5</td>\n",
       "      <td>89.0</td>\n",
       "      <td>20.0</td>\n",
       "      <td>19.0</td>\n",
       "      <td>0.6</td>\n",
       "      <td>0.4</td>\n",
       "      <td>0.3</td>\n",
       "      <td>2.3</td>\n",
       "      <td>218.0</td>\n",
       "      <td>0</td>\n",
       "    </tr>\n",
       "    <tr>\n",
       "      <th>4</th>\n",
       "      <td>12.7</td>\n",
       "      <td>29.0</td>\n",
       "      <td>15.9</td>\n",
       "      <td>1021.2</td>\n",
       "      <td>75.0</td>\n",
       "      <td>10.2</td>\n",
       "      <td>15.1</td>\n",
       "      <td>1.8</td>\n",
       "      <td>1.0</td>\n",
       "      <td>0.7</td>\n",
       "      <td>4.3</td>\n",
       "      <td>202.0</td>\n",
       "      <td>0</td>\n",
       "    </tr>\n",
       "  </tbody>\n",
       "</table>\n",
       "</div>"
      ],
      "text/plain": [
       "     풍속     풍향  gust      기압    습도    기온    수온  최대파고  유의파고  평균파고   파주기     파향  \\\n",
       "0  11.5    6.0  18.0  1015.5  84.0  -2.5   8.0   3.6   2.4   1.7   6.4  131.0   \n",
       "1   9.2  357.0  12.0  1020.1  91.0   4.5  13.1   2.3   1.5   1.0  10.7  266.0   \n",
       "2   4.2   31.0   5.4  1012.7  87.0  25.2  26.5   2.3   1.4   1.0   5.8  161.0   \n",
       "3   4.8  262.0   5.8  1008.5  89.0  20.0  19.0   0.6   0.4   0.3   2.3  218.0   \n",
       "4  12.7   29.0  15.9  1021.2  75.0  10.2  15.1   1.8   1.0   0.7   4.3  202.0   \n",
       "\n",
       "   label  \n",
       "0      0  \n",
       "1      0  \n",
       "2      0  \n",
       "3      0  \n",
       "4      0  "
      ]
     },
     "execution_count": 8,
     "metadata": {},
     "output_type": "execute_result"
    }
   ],
   "source": [
    "train_set.head()"
   ]
  },
  {
   "cell_type": "markdown",
   "metadata": {},
   "source": [
    "## 로지스틱 회귀"
   ]
  },
  {
   "cell_type": "code",
   "execution_count": 43,
   "metadata": {},
   "outputs": [],
   "source": [
    "from sklearn.linear_model import LogisticRegression"
   ]
  },
  {
   "cell_type": "code",
   "execution_count": 44,
   "metadata": {},
   "outputs": [
    {
     "data": {
      "text/html": [
       "<div>\n",
       "<style scoped>\n",
       "    .dataframe tbody tr th:only-of-type {\n",
       "        vertical-align: middle;\n",
       "    }\n",
       "\n",
       "    .dataframe tbody tr th {\n",
       "        vertical-align: top;\n",
       "    }\n",
       "\n",
       "    .dataframe thead th {\n",
       "        text-align: right;\n",
       "    }\n",
       "</style>\n",
       "<table border=\"1\" class=\"dataframe\">\n",
       "  <thead>\n",
       "    <tr style=\"text-align: right;\">\n",
       "      <th></th>\n",
       "      <th>풍속</th>\n",
       "      <th>풍향</th>\n",
       "      <th>gust</th>\n",
       "      <th>기압</th>\n",
       "      <th>습도</th>\n",
       "      <th>기온</th>\n",
       "      <th>수온</th>\n",
       "      <th>최대파고</th>\n",
       "      <th>유의파고</th>\n",
       "      <th>평균파고</th>\n",
       "      <th>파주기</th>\n",
       "      <th>파향</th>\n",
       "    </tr>\n",
       "  </thead>\n",
       "  <tbody>\n",
       "    <tr>\n",
       "      <th>0</th>\n",
       "      <td>11.5</td>\n",
       "      <td>6.0</td>\n",
       "      <td>18.0</td>\n",
       "      <td>1015.5</td>\n",
       "      <td>84.0</td>\n",
       "      <td>-2.5</td>\n",
       "      <td>8.0</td>\n",
       "      <td>3.6</td>\n",
       "      <td>2.4</td>\n",
       "      <td>1.7</td>\n",
       "      <td>6.4</td>\n",
       "      <td>131.0</td>\n",
       "    </tr>\n",
       "    <tr>\n",
       "      <th>1</th>\n",
       "      <td>9.2</td>\n",
       "      <td>357.0</td>\n",
       "      <td>12.0</td>\n",
       "      <td>1020.1</td>\n",
       "      <td>91.0</td>\n",
       "      <td>4.5</td>\n",
       "      <td>13.1</td>\n",
       "      <td>2.3</td>\n",
       "      <td>1.5</td>\n",
       "      <td>1.0</td>\n",
       "      <td>10.7</td>\n",
       "      <td>266.0</td>\n",
       "    </tr>\n",
       "    <tr>\n",
       "      <th>2</th>\n",
       "      <td>4.2</td>\n",
       "      <td>31.0</td>\n",
       "      <td>5.4</td>\n",
       "      <td>1012.7</td>\n",
       "      <td>87.0</td>\n",
       "      <td>25.2</td>\n",
       "      <td>26.5</td>\n",
       "      <td>2.3</td>\n",
       "      <td>1.4</td>\n",
       "      <td>1.0</td>\n",
       "      <td>5.8</td>\n",
       "      <td>161.0</td>\n",
       "    </tr>\n",
       "    <tr>\n",
       "      <th>3</th>\n",
       "      <td>4.8</td>\n",
       "      <td>262.0</td>\n",
       "      <td>5.8</td>\n",
       "      <td>1008.5</td>\n",
       "      <td>89.0</td>\n",
       "      <td>20.0</td>\n",
       "      <td>19.0</td>\n",
       "      <td>0.6</td>\n",
       "      <td>0.4</td>\n",
       "      <td>0.3</td>\n",
       "      <td>2.3</td>\n",
       "      <td>218.0</td>\n",
       "    </tr>\n",
       "    <tr>\n",
       "      <th>4</th>\n",
       "      <td>12.7</td>\n",
       "      <td>29.0</td>\n",
       "      <td>15.9</td>\n",
       "      <td>1021.2</td>\n",
       "      <td>75.0</td>\n",
       "      <td>10.2</td>\n",
       "      <td>15.1</td>\n",
       "      <td>1.8</td>\n",
       "      <td>1.0</td>\n",
       "      <td>0.7</td>\n",
       "      <td>4.3</td>\n",
       "      <td>202.0</td>\n",
       "    </tr>\n",
       "  </tbody>\n",
       "</table>\n",
       "</div>"
      ],
      "text/plain": [
       "     풍속     풍향  gust      기압    습도    기온    수온  최대파고  유의파고  평균파고   파주기     파향\n",
       "0  11.5    6.0  18.0  1015.5  84.0  -2.5   8.0   3.6   2.4   1.7   6.4  131.0\n",
       "1   9.2  357.0  12.0  1020.1  91.0   4.5  13.1   2.3   1.5   1.0  10.7  266.0\n",
       "2   4.2   31.0   5.4  1012.7  87.0  25.2  26.5   2.3   1.4   1.0   5.8  161.0\n",
       "3   4.8  262.0   5.8  1008.5  89.0  20.0  19.0   0.6   0.4   0.3   2.3  218.0\n",
       "4  12.7   29.0  15.9  1021.2  75.0  10.2  15.1   1.8   1.0   0.7   4.3  202.0"
      ]
     },
     "execution_count": 44,
     "metadata": {},
     "output_type": "execute_result"
    }
   ],
   "source": [
    "#컬럼 자르고 정규화하기\n",
    "label_tr = train_set['label']\n",
    "x_tr= train_set.iloc[:,0:12]\n",
    "x_tr.head()"
   ]
  },
  {
   "cell_type": "code",
   "execution_count": 45,
   "metadata": {},
   "outputs": [
    {
     "data": {
      "text/html": [
       "<div>\n",
       "<style scoped>\n",
       "    .dataframe tbody tr th:only-of-type {\n",
       "        vertical-align: middle;\n",
       "    }\n",
       "\n",
       "    .dataframe tbody tr th {\n",
       "        vertical-align: top;\n",
       "    }\n",
       "\n",
       "    .dataframe thead th {\n",
       "        text-align: right;\n",
       "    }\n",
       "</style>\n",
       "<table border=\"1\" class=\"dataframe\">\n",
       "  <thead>\n",
       "    <tr style=\"text-align: right;\">\n",
       "      <th></th>\n",
       "      <th>풍속</th>\n",
       "      <th>풍향</th>\n",
       "      <th>gust</th>\n",
       "      <th>기압</th>\n",
       "      <th>습도</th>\n",
       "      <th>기온</th>\n",
       "      <th>수온</th>\n",
       "      <th>최대파고</th>\n",
       "      <th>유의파고</th>\n",
       "      <th>평균파고</th>\n",
       "      <th>파주기</th>\n",
       "      <th>파향</th>\n",
       "    </tr>\n",
       "  </thead>\n",
       "  <tbody>\n",
       "    <tr>\n",
       "      <th>0</th>\n",
       "      <td>15.4</td>\n",
       "      <td>352.0</td>\n",
       "      <td>22.6</td>\n",
       "      <td>1010.6</td>\n",
       "      <td>81.0</td>\n",
       "      <td>5.4</td>\n",
       "      <td>14.7</td>\n",
       "      <td>12.7</td>\n",
       "      <td>8.0</td>\n",
       "      <td>4.0</td>\n",
       "      <td>6.4</td>\n",
       "      <td>16.0</td>\n",
       "    </tr>\n",
       "    <tr>\n",
       "      <th>1</th>\n",
       "      <td>7.0</td>\n",
       "      <td>211.0</td>\n",
       "      <td>7.9</td>\n",
       "      <td>1000.8</td>\n",
       "      <td>93.0</td>\n",
       "      <td>20.1</td>\n",
       "      <td>18.7</td>\n",
       "      <td>1.1</td>\n",
       "      <td>0.7</td>\n",
       "      <td>0.5</td>\n",
       "      <td>3.8</td>\n",
       "      <td>340.0</td>\n",
       "    </tr>\n",
       "    <tr>\n",
       "      <th>2</th>\n",
       "      <td>5.7</td>\n",
       "      <td>306.0</td>\n",
       "      <td>7.4</td>\n",
       "      <td>1019.0</td>\n",
       "      <td>97.0</td>\n",
       "      <td>7.0</td>\n",
       "      <td>6.2</td>\n",
       "      <td>0.6</td>\n",
       "      <td>0.3</td>\n",
       "      <td>0.2</td>\n",
       "      <td>3.6</td>\n",
       "      <td>274.0</td>\n",
       "    </tr>\n",
       "    <tr>\n",
       "      <th>3</th>\n",
       "      <td>5.7</td>\n",
       "      <td>185.0</td>\n",
       "      <td>6.9</td>\n",
       "      <td>1008.2</td>\n",
       "      <td>93.0</td>\n",
       "      <td>12.2</td>\n",
       "      <td>10.3</td>\n",
       "      <td>0.5</td>\n",
       "      <td>0.3</td>\n",
       "      <td>0.2</td>\n",
       "      <td>3.6</td>\n",
       "      <td>284.0</td>\n",
       "    </tr>\n",
       "    <tr>\n",
       "      <th>4</th>\n",
       "      <td>2.5</td>\n",
       "      <td>8.0</td>\n",
       "      <td>3.3</td>\n",
       "      <td>1018.0</td>\n",
       "      <td>97.0</td>\n",
       "      <td>16.1</td>\n",
       "      <td>17.0</td>\n",
       "      <td>0.8</td>\n",
       "      <td>0.5</td>\n",
       "      <td>0.2</td>\n",
       "      <td>4.3</td>\n",
       "      <td>289.0</td>\n",
       "    </tr>\n",
       "  </tbody>\n",
       "</table>\n",
       "</div>"
      ],
      "text/plain": [
       "     풍속     풍향  gust      기압    습도    기온    수온  최대파고  유의파고  평균파고  파주기     파향\n",
       "0  15.4  352.0  22.6  1010.6  81.0   5.4  14.7  12.7   8.0   4.0  6.4   16.0\n",
       "1   7.0  211.0   7.9  1000.8  93.0  20.1  18.7   1.1   0.7   0.5  3.8  340.0\n",
       "2   5.7  306.0   7.4  1019.0  97.0   7.0   6.2   0.6   0.3   0.2  3.6  274.0\n",
       "3   5.7  185.0   6.9  1008.2  93.0  12.2  10.3   0.5   0.3   0.2  3.6  284.0\n",
       "4   2.5    8.0   3.3  1018.0  97.0  16.1  17.0   0.8   0.5   0.2  4.3  289.0"
      ]
     },
     "execution_count": 45,
     "metadata": {},
     "output_type": "execute_result"
    }
   ],
   "source": [
    "#컬럼 자르고 정규화하기\n",
    "label_t = test_set['label']\n",
    "x_t = test_set.iloc[:,0:12]\n",
    "x_t.head()"
   ]
  },
  {
   "cell_type": "code",
   "execution_count": 46,
   "metadata": {},
   "outputs": [
    {
     "data": {
      "text/plain": [
       "LogisticRegression(C=1.0, class_weight=None, dual=False, fit_intercept=True,\n",
       "          intercept_scaling=1, max_iter=100, multi_class='ovr', n_jobs=1,\n",
       "          penalty='l2', random_state=None, solver='liblinear', tol=0.0001,\n",
       "          verbose=0, warm_start=False)"
      ]
     },
     "execution_count": 46,
     "metadata": {},
     "output_type": "execute_result"
    }
   ],
   "source": [
    "log_clf = LogisticRegression() \n",
    "log_clf.fit(x_tr,label_tr) "
   ]
  },
  {
   "cell_type": "code",
   "execution_count": 47,
   "metadata": {},
   "outputs": [],
   "source": [
    "#데이터 예측하기\n",
    "log_pred = log_clf.predict(x_t)"
   ]
  },
  {
   "cell_type": "code",
   "execution_count": 48,
   "metadata": {},
   "outputs": [
    {
     "name": "stdout",
     "output_type": "stream",
     "text": [
      "\n",
      " *Confusion Matrix* \n",
      "\n",
      "[[107196  49710]\n",
      " [    38     64]]\n",
      "\n",
      " *Classification Report* \n",
      "\n",
      "             precision    recall  f1-score   support\n",
      "\n",
      "          0       1.00      0.68      0.81    156906\n",
      "          1       0.00      0.63      0.00       102\n",
      "\n",
      "avg / total       1.00      0.68      0.81    157008\n",
      "\n"
     ]
    }
   ],
   "source": [
    "#데이터 검증\n",
    "print(\"\\n *Confusion Matrix* \\n\")\n",
    "print(confusion_matrix(label_t, log_pred))\n",
    "print(\"\\n *Classification Report* \\n\")\n",
    "print(metrics.classification_report(label_t, log_pred))"
   ]
  },
  {
   "cell_type": "markdown",
   "metadata": {},
   "source": [
    "###### ROC 확인하기"
   ]
  },
  {
   "cell_type": "code",
   "execution_count": 49,
   "metadata": {},
   "outputs": [
    {
     "data": {
      "text/plain": [
       "(array([0.00000000e+00, 6.37324258e-06, 3.69648070e-04, 3.69648070e-04,\n",
       "        5.09859406e-04, 5.09859406e-04, 6.11831288e-04, 6.11831288e-04,\n",
       "        6.11831288e-04, 1.01334557e-03, 1.01334557e-03, 1.28102176e-03,\n",
       "        1.28102176e-03, 1.88010656e-03, 1.88010656e-03, 2.08405032e-03,\n",
       "        2.08405032e-03, 3.51802990e-03, 3.51802990e-03, 3.56901584e-03,\n",
       "        3.56901584e-03, 3.60088206e-03, 3.60088206e-03, 3.65824124e-03,\n",
       "        3.65824124e-03, 4.02788931e-03, 4.02788931e-03, 4.72257275e-03,\n",
       "        4.72257275e-03, 5.44274916e-03, 5.44274916e-03, 6.95320765e-03,\n",
       "        6.95320765e-03, 8.20873644e-03, 8.20873644e-03, 8.65486342e-03,\n",
       "        8.65486342e-03, 8.80782124e-03, 8.80782124e-03, 1.00251106e-02,\n",
       "        1.00251106e-02, 1.00952162e-02, 1.00952162e-02, 1.10257097e-02,\n",
       "        1.10257097e-02, 1.14973296e-02, 1.14973296e-02, 1.20263087e-02,\n",
       "        1.20263087e-02, 1.56335640e-02, 1.56335640e-02, 1.70739169e-02,\n",
       "        1.70739169e-02, 1.93236715e-02, 1.93236715e-02, 2.79721617e-02,\n",
       "        2.79721617e-02, 2.92914229e-02, 2.92914229e-02, 4.95392146e-02,\n",
       "        4.95392146e-02, 6.06222834e-02, 6.06222834e-02, 6.08517201e-02,\n",
       "        6.08517201e-02, 6.61287650e-02, 6.61287650e-02, 6.69700330e-02,\n",
       "        6.69700330e-02, 7.30628529e-02, 7.30628529e-02, 7.79256370e-02,\n",
       "        7.79256370e-02, 8.00288071e-02, 8.00288071e-02, 8.90788115e-02,\n",
       "        8.90788115e-02, 9.75488509e-02, 9.75488509e-02, 1.01984628e-01,\n",
       "        1.01984628e-01, 1.02519980e-01, 1.02519980e-01, 1.20071890e-01,\n",
       "        1.20071890e-01, 1.70955859e-01, 1.70955859e-01, 1.72262374e-01,\n",
       "        1.72262374e-01, 1.76322129e-01, 1.76322129e-01, 1.94211821e-01,\n",
       "        1.94211821e-01, 1.99609958e-01, 1.99616331e-01, 2.08564363e-01,\n",
       "        2.08564363e-01, 2.35344729e-01, 2.35344729e-01, 2.38378392e-01,\n",
       "        2.38378392e-01, 2.44120684e-01, 2.44120684e-01, 2.47606847e-01,\n",
       "        2.47606847e-01, 2.57995233e-01, 2.57995233e-01, 2.62532982e-01,\n",
       "        2.62532982e-01, 2.72787529e-01, 2.72787529e-01, 2.77771405e-01,\n",
       "        2.77771405e-01, 2.79058800e-01, 2.79058800e-01, 2.79536793e-01,\n",
       "        2.79536793e-01, 2.85100634e-01, 2.85100634e-01, 2.92665672e-01,\n",
       "        2.92665672e-01, 3.15698571e-01, 3.15698571e-01, 3.24104878e-01,\n",
       "        3.24104878e-01, 3.36226785e-01, 3.36226785e-01, 3.36609180e-01,\n",
       "        3.36609180e-01, 3.60464227e-01, 3.60464227e-01, 3.90138044e-01,\n",
       "        3.90138044e-01, 3.96243611e-01, 3.96243611e-01, 4.02164353e-01,\n",
       "        4.02164353e-01, 4.16982142e-01, 4.16982142e-01, 4.18862249e-01,\n",
       "        4.18862249e-01, 4.40620499e-01, 4.40620499e-01, 4.69561393e-01,\n",
       "        4.69561393e-01, 4.74927664e-01, 4.74927664e-01, 4.75788051e-01,\n",
       "        4.75788051e-01, 4.77158299e-01, 4.77171045e-01, 4.93843448e-01,\n",
       "        4.93843448e-01, 5.00790282e-01, 5.00790282e-01, 5.22478427e-01,\n",
       "        5.22491173e-01, 5.71998521e-01, 5.71998521e-01, 5.77957503e-01,\n",
       "        5.77957503e-01, 5.81379934e-01, 5.81379934e-01, 5.97427759e-01,\n",
       "        5.97427759e-01, 6.07044982e-01, 6.07044982e-01, 6.22436363e-01,\n",
       "        6.22436363e-01, 6.28988057e-01, 6.28988057e-01, 6.31652072e-01,\n",
       "        6.31652072e-01, 6.39293590e-01, 6.39293590e-01, 6.70006246e-01,\n",
       "        6.70006246e-01, 6.76730017e-01, 6.76730017e-01, 6.84715690e-01,\n",
       "        6.84715690e-01, 6.92216996e-01, 6.92216996e-01, 7.27983634e-01,\n",
       "        7.27983634e-01, 7.30806980e-01, 7.30806980e-01, 7.48084841e-01,\n",
       "        7.48084841e-01, 7.50188011e-01, 7.50188011e-01, 7.92232292e-01,\n",
       "        7.92232292e-01, 8.18566530e-01, 8.18566530e-01, 8.79864377e-01,\n",
       "        8.79864377e-01, 8.88952621e-01, 8.88952621e-01, 9.28179929e-01,\n",
       "        9.28179929e-01, 9.39721872e-01, 9.39734618e-01, 9.84933655e-01,\n",
       "        9.84933655e-01, 1.00000000e+00]),\n",
       " array([0.        , 0.        , 0.        , 0.00980392, 0.00980392,\n",
       "        0.01960784, 0.01960784, 0.03921569, 0.06862745, 0.06862745,\n",
       "        0.07843137, 0.07843137, 0.08823529, 0.08823529, 0.09803922,\n",
       "        0.09803922, 0.10784314, 0.10784314, 0.11764706, 0.11764706,\n",
       "        0.12745098, 0.12745098, 0.1372549 , 0.1372549 , 0.14705882,\n",
       "        0.14705882, 0.15686275, 0.15686275, 0.16666667, 0.16666667,\n",
       "        0.17647059, 0.17647059, 0.18627451, 0.18627451, 0.19607843,\n",
       "        0.19607843, 0.20588235, 0.20588235, 0.21568627, 0.21568627,\n",
       "        0.2254902 , 0.2254902 , 0.23529412, 0.23529412, 0.24509804,\n",
       "        0.24509804, 0.25490196, 0.25490196, 0.26470588, 0.26470588,\n",
       "        0.2745098 , 0.2745098 , 0.28431373, 0.28431373, 0.29411765,\n",
       "        0.29411765, 0.30392157, 0.30392157, 0.31372549, 0.31372549,\n",
       "        0.32352941, 0.32352941, 0.33333333, 0.33333333, 0.34313725,\n",
       "        0.34313725, 0.35294118, 0.35294118, 0.3627451 , 0.3627451 ,\n",
       "        0.37254902, 0.37254902, 0.38235294, 0.38235294, 0.39215686,\n",
       "        0.39215686, 0.40196078, 0.40196078, 0.41176471, 0.41176471,\n",
       "        0.42156863, 0.42156863, 0.43137255, 0.43137255, 0.44117647,\n",
       "        0.44117647, 0.45098039, 0.45098039, 0.46078431, 0.46078431,\n",
       "        0.47058824, 0.47058824, 0.48039216, 0.48039216, 0.49019608,\n",
       "        0.49019608, 0.5       , 0.5       , 0.50980392, 0.50980392,\n",
       "        0.51960784, 0.51960784, 0.52941176, 0.52941176, 0.53921569,\n",
       "        0.53921569, 0.54901961, 0.54901961, 0.55882353, 0.55882353,\n",
       "        0.56862745, 0.56862745, 0.57843137, 0.57843137, 0.58823529,\n",
       "        0.58823529, 0.59803922, 0.59803922, 0.60784314, 0.60784314,\n",
       "        0.61764706, 0.61764706, 0.62745098, 0.62745098, 0.6372549 ,\n",
       "        0.6372549 , 0.64705882, 0.64705882, 0.65686275, 0.65686275,\n",
       "        0.66666667, 0.66666667, 0.67647059, 0.67647059, 0.68627451,\n",
       "        0.68627451, 0.69607843, 0.69607843, 0.70588235, 0.70588235,\n",
       "        0.71568627, 0.71568627, 0.7254902 , 0.7254902 , 0.73529412,\n",
       "        0.73529412, 0.74509804, 0.74509804, 0.75490196, 0.75490196,\n",
       "        0.75490196, 0.75490196, 0.76470588, 0.76470588, 0.7745098 ,\n",
       "        0.7745098 , 0.7745098 , 0.7745098 , 0.78431373, 0.78431373,\n",
       "        0.79411765, 0.79411765, 0.80392157, 0.80392157, 0.81372549,\n",
       "        0.81372549, 0.82352941, 0.82352941, 0.83333333, 0.83333333,\n",
       "        0.84313725, 0.84313725, 0.85294118, 0.85294118, 0.8627451 ,\n",
       "        0.8627451 , 0.87254902, 0.87254902, 0.88235294, 0.88235294,\n",
       "        0.89215686, 0.89215686, 0.90196078, 0.90196078, 0.91176471,\n",
       "        0.91176471, 0.92156863, 0.92156863, 0.93137255, 0.93137255,\n",
       "        0.94117647, 0.94117647, 0.95098039, 0.95098039, 0.96078431,\n",
       "        0.96078431, 0.97058824, 0.97058824, 0.98039216, 0.98039216,\n",
       "        0.99019608, 0.99019608, 0.99019608, 0.99019608, 1.        ,\n",
       "        1.        ]),\n",
       " array([ 2.39182276e+01,  2.29182276e+01,  8.49834723e+00,  7.67824661e+00,\n",
       "         4.60487943e+00,  4.55202792e+00,  4.09432284e+00,  4.07133180e+00,\n",
       "         4.04940658e+00,  3.37365205e+00,  3.37214717e+00,  3.16848132e+00,\n",
       "         3.15861837e+00,  2.90482642e+00,  2.89252317e+00,  2.81079961e+00,\n",
       "         2.80862195e+00,  2.48143551e+00,  2.48129539e+00,  2.47210412e+00,\n",
       "         2.47199708e+00,  2.46649414e+00,  2.46529377e+00,  2.45426410e+00,\n",
       "         2.45280196e+00,  2.39594256e+00,  2.39336636e+00,  2.29309049e+00,\n",
       "         2.29222091e+00,  2.21675367e+00,  2.21646194e+00,  2.07706670e+00,\n",
       "         2.07684437e+00,  1.99117975e+00,  1.99089730e+00,  1.95924605e+00,\n",
       "         1.95919843e+00,  1.94824690e+00,  1.94822529e+00,  1.87380367e+00,\n",
       "         1.87378377e+00,  1.87009991e+00,  1.87009887e+00,  1.82041054e+00,\n",
       "         1.82000180e+00,  1.79751423e+00,  1.79736696e+00,  1.77610321e+00,\n",
       "         1.77599756e+00,  1.64542612e+00,  1.64536843e+00,  1.60139903e+00,\n",
       "         1.60132710e+00,  1.53139574e+00,  1.53135319e+00,  1.33778419e+00,\n",
       "         1.33762434e+00,  1.31463945e+00,  1.31459563e+00,  1.05167367e+00,\n",
       "         1.05164549e+00,  9.48788386e-01,  9.48762822e-01,  9.47396665e-01,\n",
       "         9.47388383e-01,  9.04580400e-01,  9.04560914e-01,  8.98319779e-01,\n",
       "         8.98244015e-01,  8.55981841e-01,  8.55864155e-01,  8.23002925e-01,\n",
       "         8.22991466e-01,  8.08341370e-01,  8.08329496e-01,  7.51912840e-01,\n",
       "         7.51875581e-01,  7.02885552e-01,  7.02836231e-01,  6.79424960e-01,\n",
       "         6.79371462e-01,  6.76552662e-01,  6.76527192e-01,  5.89828654e-01,\n",
       "         5.89823368e-01,  3.92250339e-01,  3.92249655e-01,  3.87698352e-01,\n",
       "         3.87689008e-01,  3.73281583e-01,  3.73274246e-01,  3.17493647e-01,\n",
       "         3.17483502e-01,  3.01458350e-01,  3.01431248e-01,  2.74456321e-01,\n",
       "         2.74449447e-01,  2.00358446e-01,  2.00356227e-01,  1.92155897e-01,\n",
       "         1.92140651e-01,  1.77012467e-01,  1.77010027e-01,  1.67435515e-01,\n",
       "         1.67426204e-01,  1.41505302e-01,  1.41494530e-01,  1.30649146e-01,\n",
       "         1.30633649e-01,  1.05029381e-01,  1.05018198e-01,  9.34143754e-02,\n",
       "         9.34110925e-02,  9.02834263e-02,  9.02822789e-02,  8.89225380e-02,\n",
       "         8.88541397e-02,  7.48146745e-02,  7.48111639e-02,  5.65645845e-02,\n",
       "         5.65402055e-02,  2.53420859e-03,  2.47238072e-03, -1.67869797e-02,\n",
       "        -1.67922712e-02, -4.42672432e-02, -4.42785818e-02, -4.50546578e-02,\n",
       "        -4.50621279e-02, -9.69158334e-02, -9.69159890e-02, -1.60626487e-01,\n",
       "        -1.60676006e-01, -1.73388929e-01, -1.73396933e-01, -1.85731800e-01,\n",
       "        -1.85762265e-01, -2.17566281e-01, -2.17575439e-01, -2.21513271e-01,\n",
       "        -2.21561140e-01, -2.68255777e-01, -2.68275489e-01, -3.29592414e-01,\n",
       "        -3.29602768e-01, -3.41001240e-01, -3.41001433e-01, -3.42855610e-01,\n",
       "        -3.42885108e-01, -3.45599511e-01, -3.45637563e-01, -3.79810432e-01,\n",
       "        -3.79813548e-01, -3.94314377e-01, -3.94327401e-01, -4.40378027e-01,\n",
       "        -4.40397252e-01, -5.46728511e-01, -5.46737215e-01, -5.59563606e-01,\n",
       "        -5.59579638e-01, -5.66760011e-01, -5.66766161e-01, -6.02242171e-01,\n",
       "        -6.02255740e-01, -6.23814919e-01, -6.23825868e-01, -6.58710831e-01,\n",
       "        -6.58717980e-01, -6.73694147e-01, -6.73710091e-01, -6.79468262e-01,\n",
       "        -6.79468897e-01, -6.97331398e-01, -6.97378594e-01, -7.74638770e-01,\n",
       "        -7.74663708e-01, -7.91698272e-01, -7.91701508e-01, -8.12792859e-01,\n",
       "        -8.12817301e-01, -8.32820679e-01, -8.32866044e-01, -9.27922721e-01,\n",
       "        -9.27943253e-01, -9.35387440e-01, -9.35412444e-01, -9.85312938e-01,\n",
       "        -9.85329397e-01, -9.91242888e-01, -9.91243894e-01, -1.12468083e+00,\n",
       "        -1.12468452e+00, -1.21698229e+00, -1.21700981e+00, -1.47709594e+00,\n",
       "        -1.47713114e+00, -1.52315016e+00, -1.52315752e+00, -1.76469976e+00,\n",
       "        -1.76471545e+00, -1.85780737e+00, -1.85784535e+00, -2.46956043e+00,\n",
       "        -2.46975079e+00, -4.54942989e+00]))"
      ]
     },
     "execution_count": 49,
     "metadata": {},
     "output_type": "execute_result"
    }
   ],
   "source": [
    "from sklearn.metrics import roc_curve\n",
    "\n",
    "fpr, tpr, thresholds = roc_curve(label_t, log_clf.decision_function(x_t))\n",
    "fpr, tpr, thresholds"
   ]
  },
  {
   "cell_type": "code",
   "execution_count": 50,
   "metadata": {},
   "outputs": [
    {
     "data": {
      "image/png": "[encoded data removed]",
      "text/plain": [
       "<Figure size 432x288 with 1 Axes>"
      ]
     },
     "metadata": {},
     "output_type": "display_data"
    }
   ],
   "source": [
    "plt.plot(fpr, tpr, label=\"Logistic Regression\")\n",
    "plt.plot([0, 1], [0, 1], 'k--', label=\"random guess\")\n",
    "plt.xlabel('False Positive Rate (Fall-Out)')\n",
    "plt.ylabel('True Positive Rate (Recall)')\n",
    "plt.title('Receiver operating characteristic example')\n",
    "plt.show()"
   ]
  },
  {
   "cell_type": "code",
   "execution_count": 58,
   "metadata": {},
   "outputs": [
    {
     "data": {
      "image/png": "[encoded data removed]",
      "text/plain": [
       "<Figure size 432x288 with 1 Axes>"
      ]
     },
     "metadata": {},
     "output_type": "display_data"
    }
   ],
   "source": [
    "log_proba = log_clf.predict_proba(x_t)[::,1]\n",
    "fpr_log, tpr_log, _ = metrics.roc_curve(label_t,  log_proba)\n",
    "auc_log = metrics.roc_auc_score(label_t, log_proba)\n",
    "plt.plot([0, 1], [0, 1], 'k--')\n",
    "plt.plot(fpr_log,tpr_log,label=\"logistic regression, auc=\"+str(auc_log))\n",
    "plt.legend(loc=4)\n",
    "plt.show()\n"
   ]
  },
  {
   "cell_type": "code",
   "execution_count": 59,
   "metadata": {},
   "outputs": [],
   "source": [
    "p = log_clf.predict_proba(x_t)"
   ]
  },
  {
   "cell_type": "code",
   "execution_count": 60,
   "metadata": {},
   "outputs": [
    {
     "data": {
      "text/plain": [
       "array([[0.04487752, 0.95512248],\n",
       "       [0.3372822 , 0.6627178 ],\n",
       "       [0.29491175, 0.70508825],\n",
       "       ...,\n",
       "       [0.32041276, 0.67958724],\n",
       "       [0.42520764, 0.57479236],\n",
       "       [0.54324095, 0.45675905]])"
      ]
     },
     "execution_count": 60,
     "metadata": {},
     "output_type": "execute_result"
    }
   ],
   "source": [
    "p"
   ]
  },
  {
   "cell_type": "code",
   "execution_count": 61,
   "metadata": {},
   "outputs": [
    {
     "data": {
      "text/plain": [
       "array([0.38277541, 0.61722459])"
      ]
     },
     "execution_count": 61,
     "metadata": {},
     "output_type": "execute_result"
    }
   ],
   "source": [
    "p[3]"
   ]
  },
  {
   "cell_type": "code",
   "execution_count": 62,
   "metadata": {},
   "outputs": [
    {
     "name": "stdout",
     "output_type": "stream",
     "text": [
      "4039\n",
      "22257\n",
      "53152\n",
      "55655\n",
      "21905\n"
     ]
    }
   ],
   "source": [
    "count_A = 0\n",
    "count_B = 0\n",
    "count_C = 0\n",
    "count_D = 0\n",
    "count_E = 0\n",
    "\n",
    "\n",
    "\n",
    "for i in range(0, len(p)):\n",
    "    if 0.80< p[i][1]:\n",
    "        count_A +=1\n",
    "    elif 0.6 < p[i][1] <0.8:\n",
    "        count_B += 1\n",
    "    elif 0.4 < p[i][1] <0.6:\n",
    "        count_C += 1   \n",
    "    elif 0.2 < p[i][1] <0.4:\n",
    "        count_D += 1\n",
    "    elif p[i][1] < 0.2:\n",
    "        count_E += 1\n",
    "        \n",
    "print(count_A)\n",
    "print(count_B)\n",
    "print(count_C)\n",
    "print(count_D)\n",
    "print(count_E)"
   ]
  },
  {
   "cell_type": "code",
   "execution_count": 63,
   "metadata": {},
   "outputs": [],
   "source": [
    "A = count_A/len(p)\n",
    "B = count_B/len(p)\n",
    "C = count_C/len(p)\n",
    "D = count_D/len(p)\n",
    "E = count_E/len(p)"
   ]
  },
  {
   "cell_type": "code",
   "execution_count": 64,
   "metadata": {},
   "outputs": [
    {
     "name": "stdout",
     "output_type": "stream",
     "text": [
      "0.02572480383165189\n",
      "0.14175710791806787\n",
      "0.3385305207377968\n",
      "0.3544723835728116\n",
      "0.13951518393967186\n"
     ]
    }
   ],
   "source": [
    "print(A)\n",
    "print(B)\n",
    "print(C)\n",
    "print(D)\n",
    "print(E)"
   ]
  },
  {
   "cell_type": "markdown",
   "metadata": {},
   "source": [
    "###### feature data  가중치 확인"
   ]
  },
  {
   "cell_type": "code",
   "execution_count": 65,
   "metadata": {},
   "outputs": [
    {
     "data": {
      "text/html": [
       "<div>\n",
       "<style scoped>\n",
       "    .dataframe tbody tr th:only-of-type {\n",
       "        vertical-align: middle;\n",
       "    }\n",
       "\n",
       "    .dataframe tbody tr th {\n",
       "        vertical-align: top;\n",
       "    }\n",
       "\n",
       "    .dataframe thead th {\n",
       "        text-align: right;\n",
       "    }\n",
       "</style>\n",
       "<table border=\"1\" class=\"dataframe\">\n",
       "  <thead>\n",
       "    <tr style=\"text-align: right;\">\n",
       "      <th></th>\n",
       "      <th>coef</th>\n",
       "      <th>weight</th>\n",
       "    </tr>\n",
       "  </thead>\n",
       "  <tbody>\n",
       "    <tr>\n",
       "      <th>0</th>\n",
       "      <td>풍속</td>\n",
       "      <td>-0.108340</td>\n",
       "    </tr>\n",
       "    <tr>\n",
       "      <th>1</th>\n",
       "      <td>풍향</td>\n",
       "      <td>0.001599</td>\n",
       "    </tr>\n",
       "    <tr>\n",
       "      <th>2</th>\n",
       "      <td>gust</td>\n",
       "      <td>0.209335</td>\n",
       "    </tr>\n",
       "    <tr>\n",
       "      <th>3</th>\n",
       "      <td>기압</td>\n",
       "      <td>-0.004258</td>\n",
       "    </tr>\n",
       "    <tr>\n",
       "      <th>4</th>\n",
       "      <td>습도</td>\n",
       "      <td>0.043466</td>\n",
       "    </tr>\n",
       "    <tr>\n",
       "      <th>5</th>\n",
       "      <td>기온</td>\n",
       "      <td>0.042092</td>\n",
       "    </tr>\n",
       "    <tr>\n",
       "      <th>6</th>\n",
       "      <td>수온</td>\n",
       "      <td>-0.050997</td>\n",
       "    </tr>\n",
       "    <tr>\n",
       "      <th>7</th>\n",
       "      <td>최대파고</td>\n",
       "      <td>-0.282128</td>\n",
       "    </tr>\n",
       "    <tr>\n",
       "      <th>8</th>\n",
       "      <td>유의파고</td>\n",
       "      <td>-0.012687</td>\n",
       "    </tr>\n",
       "    <tr>\n",
       "      <th>9</th>\n",
       "      <td>평균파고</td>\n",
       "      <td>1.292128</td>\n",
       "    </tr>\n",
       "    <tr>\n",
       "      <th>10</th>\n",
       "      <td>파주기</td>\n",
       "      <td>-0.144901</td>\n",
       "    </tr>\n",
       "    <tr>\n",
       "      <th>11</th>\n",
       "      <td>파향</td>\n",
       "      <td>-0.000579</td>\n",
       "    </tr>\n",
       "  </tbody>\n",
       "</table>\n",
       "</div>"
      ],
      "text/plain": [
       "    coef    weight\n",
       "0     풍속 -0.108340\n",
       "1     풍향  0.001599\n",
       "2   gust  0.209335\n",
       "3     기압 -0.004258\n",
       "4     습도  0.043466\n",
       "5     기온  0.042092\n",
       "6     수온 -0.050997\n",
       "7   최대파고 -0.282128\n",
       "8   유의파고 -0.012687\n",
       "9   평균파고  1.292128\n",
       "10   파주기 -0.144901\n",
       "11    파향 -0.000579"
      ]
     },
     "execution_count": 65,
     "metadata": {},
     "output_type": "execute_result"
    }
   ],
   "source": [
    "dfcoef = pd.DataFrame({'coef':x_tr.columns, 'weight':log_clf.coef_[0]})\n",
    "dfcoef"
   ]
  },
  {
   "cell_type": "code",
   "execution_count": 66,
   "metadata": {},
   "outputs": [
    {
     "data": {
      "text/plain": [
       "array([[-1.08340401e-01,  1.59947741e-03,  2.09335491e-01,\n",
       "        -4.25836428e-03,  4.34658231e-02,  4.20917745e-02,\n",
       "        -5.09973652e-02, -2.82128496e-01, -1.26867683e-02,\n",
       "         1.29212758e+00, -1.44901203e-01, -5.78569896e-04]])"
      ]
     },
     "execution_count": 66,
     "metadata": {},
     "output_type": "execute_result"
    }
   ],
   "source": [
    "log_clf.coef_"
   ]
  },
  {
   "cell_type": "code",
   "execution_count": null,
   "metadata": {},
   "outputs": [],
   "source": [
    "#coef(편회귀계수)의 값이 양수이면 그 컬럼의 값이 커질수록 목적변수가 TRUE일 확률 즉, admit=1일 확률이 높아진다.\n",
    "#반대로 coef의 값이 음수이면 그 컬럼의 값이 커질수록 목적변수가 FALSE일 확률 즉, admin=0일 확률이 높아진다.\n",
    "\n",
    "#평균파고가 가장 많은 영향을끼쳤고 "
   ]
  },
  {
   "cell_type": "code",
   "execution_count": 67,
   "metadata": {},
   "outputs": [
    {
     "data": {
      "text/plain": [
       "array([0.19012407])"
      ]
     },
     "execution_count": 67,
     "metadata": {},
     "output_type": "execute_result"
    }
   ],
   "source": [
    "log_clf.intercept_"
   ]
  },
  {
   "cell_type": "code",
   "execution_count": 68,
   "metadata": {},
   "outputs": [
    {
     "data": {
      "text/html": [
       "<div>\n",
       "<style scoped>\n",
       "    .dataframe tbody tr th:only-of-type {\n",
       "        vertical-align: middle;\n",
       "    }\n",
       "\n",
       "    .dataframe tbody tr th {\n",
       "        vertical-align: top;\n",
       "    }\n",
       "\n",
       "    .dataframe thead th {\n",
       "        text-align: right;\n",
       "    }\n",
       "</style>\n",
       "<table border=\"1\" class=\"dataframe\">\n",
       "  <thead>\n",
       "    <tr style=\"text-align: right;\">\n",
       "      <th></th>\n",
       "      <th>풍속</th>\n",
       "      <th>풍향</th>\n",
       "      <th>gust</th>\n",
       "      <th>기압</th>\n",
       "      <th>습도</th>\n",
       "      <th>기온</th>\n",
       "      <th>수온</th>\n",
       "      <th>최대파고</th>\n",
       "      <th>유의파고</th>\n",
       "      <th>평균파고</th>\n",
       "      <th>파주기</th>\n",
       "      <th>파향</th>\n",
       "      <th>label</th>\n",
       "    </tr>\n",
       "  </thead>\n",
       "  <tbody>\n",
       "    <tr>\n",
       "      <th>count</th>\n",
       "      <td>612.000000</td>\n",
       "      <td>612.000000</td>\n",
       "      <td>612.000000</td>\n",
       "      <td>612.000000</td>\n",
       "      <td>612.000000</td>\n",
       "      <td>612.000000</td>\n",
       "      <td>612.000000</td>\n",
       "      <td>612.000000</td>\n",
       "      <td>612.000000</td>\n",
       "      <td>612.000000</td>\n",
       "      <td>612.000000</td>\n",
       "      <td>612.000000</td>\n",
       "      <td>612.000000</td>\n",
       "    </tr>\n",
       "    <tr>\n",
       "      <th>mean</th>\n",
       "      <td>6.852124</td>\n",
       "      <td>189.428105</td>\n",
       "      <td>9.268137</td>\n",
       "      <td>1013.742810</td>\n",
       "      <td>77.526144</td>\n",
       "      <td>15.343301</td>\n",
       "      <td>17.284477</td>\n",
       "      <td>2.208170</td>\n",
       "      <td>1.393464</td>\n",
       "      <td>0.906536</td>\n",
       "      <td>5.754902</td>\n",
       "      <td>195.150000</td>\n",
       "      <td>0.500000</td>\n",
       "    </tr>\n",
       "    <tr>\n",
       "      <th>std</th>\n",
       "      <td>4.423451</td>\n",
       "      <td>114.093293</td>\n",
       "      <td>5.951411</td>\n",
       "      <td>9.485601</td>\n",
       "      <td>15.201784</td>\n",
       "      <td>8.040306</td>\n",
       "      <td>5.987721</td>\n",
       "      <td>2.216564</td>\n",
       "      <td>1.474427</td>\n",
       "      <td>0.988472</td>\n",
       "      <td>2.409785</td>\n",
       "      <td>97.201919</td>\n",
       "      <td>0.500409</td>\n",
       "    </tr>\n",
       "    <tr>\n",
       "      <th>min</th>\n",
       "      <td>0.000000</td>\n",
       "      <td>0.000000</td>\n",
       "      <td>0.000000</td>\n",
       "      <td>976.700000</td>\n",
       "      <td>33.000000</td>\n",
       "      <td>-11.400000</td>\n",
       "      <td>1.100000</td>\n",
       "      <td>0.000000</td>\n",
       "      <td>0.000000</td>\n",
       "      <td>0.000000</td>\n",
       "      <td>2.000000</td>\n",
       "      <td>0.000000</td>\n",
       "      <td>0.000000</td>\n",
       "    </tr>\n",
       "    <tr>\n",
       "      <th>25%</th>\n",
       "      <td>3.300000</td>\n",
       "      <td>81.750000</td>\n",
       "      <td>4.575000</td>\n",
       "      <td>1007.950000</td>\n",
       "      <td>66.000000</td>\n",
       "      <td>9.175000</td>\n",
       "      <td>12.975000</td>\n",
       "      <td>0.900000</td>\n",
       "      <td>0.500000</td>\n",
       "      <td>0.300000</td>\n",
       "      <td>4.000000</td>\n",
       "      <td>115.750000</td>\n",
       "      <td>0.000000</td>\n",
       "    </tr>\n",
       "    <tr>\n",
       "      <th>50%</th>\n",
       "      <td>6.000000</td>\n",
       "      <td>200.000000</td>\n",
       "      <td>8.000000</td>\n",
       "      <td>1013.950000</td>\n",
       "      <td>80.000000</td>\n",
       "      <td>16.300000</td>\n",
       "      <td>17.100000</td>\n",
       "      <td>1.500000</td>\n",
       "      <td>1.000000</td>\n",
       "      <td>0.600000</td>\n",
       "      <td>5.300000</td>\n",
       "      <td>204.500000</td>\n",
       "      <td>0.500000</td>\n",
       "    </tr>\n",
       "    <tr>\n",
       "      <th>75%</th>\n",
       "      <td>9.800000</td>\n",
       "      <td>294.250000</td>\n",
       "      <td>13.000000</td>\n",
       "      <td>1020.500000</td>\n",
       "      <td>90.000000</td>\n",
       "      <td>21.925000</td>\n",
       "      <td>22.025000</td>\n",
       "      <td>2.800000</td>\n",
       "      <td>1.800000</td>\n",
       "      <td>1.100000</td>\n",
       "      <td>7.100000</td>\n",
       "      <td>270.000000</td>\n",
       "      <td>1.000000</td>\n",
       "    </tr>\n",
       "    <tr>\n",
       "      <th>max</th>\n",
       "      <td>26.800000</td>\n",
       "      <td>360.000000</td>\n",
       "      <td>40.400000</td>\n",
       "      <td>1035.700000</td>\n",
       "      <td>100.000000</td>\n",
       "      <td>33.300000</td>\n",
       "      <td>31.700000</td>\n",
       "      <td>13.700000</td>\n",
       "      <td>11.500000</td>\n",
       "      <td>8.200000</td>\n",
       "      <td>12.800000</td>\n",
       "      <td>360.000000</td>\n",
       "      <td>1.000000</td>\n",
       "    </tr>\n",
       "  </tbody>\n",
       "</table>\n",
       "</div>"
      ],
      "text/plain": [
       "               풍속          풍향        gust           기압          습도  \\\n",
       "count  612.000000  612.000000  612.000000   612.000000  612.000000   \n",
       "mean     6.852124  189.428105    9.268137  1013.742810   77.526144   \n",
       "std      4.423451  114.093293    5.951411     9.485601   15.201784   \n",
       "min      0.000000    0.000000    0.000000   976.700000   33.000000   \n",
       "25%      3.300000   81.750000    4.575000  1007.950000   66.000000   \n",
       "50%      6.000000  200.000000    8.000000  1013.950000   80.000000   \n",
       "75%      9.800000  294.250000   13.000000  1020.500000   90.000000   \n",
       "max     26.800000  360.000000   40.400000  1035.700000  100.000000   \n",
       "\n",
       "               기온          수온        최대파고        유의파고        평균파고         파주기  \\\n",
       "count  612.000000  612.000000  612.000000  612.000000  612.000000  612.000000   \n",
       "mean    15.343301   17.284477    2.208170    1.393464    0.906536    5.754902   \n",
       "std      8.040306    5.987721    2.216564    1.474427    0.988472    2.409785   \n",
       "min    -11.400000    1.100000    0.000000    0.000000    0.000000    2.000000   \n",
       "25%      9.175000   12.975000    0.900000    0.500000    0.300000    4.000000   \n",
       "50%     16.300000   17.100000    1.500000    1.000000    0.600000    5.300000   \n",
       "75%     21.925000   22.025000    2.800000    1.800000    1.100000    7.100000   \n",
       "max     33.300000   31.700000   13.700000   11.500000    8.200000   12.800000   \n",
       "\n",
       "               파향       label  \n",
       "count  612.000000  612.000000  \n",
       "mean   195.150000    0.500000  \n",
       "std     97.201919    0.500409  \n",
       "min      0.000000    0.000000  \n",
       "25%    115.750000    0.000000  \n",
       "50%    204.500000    0.500000  \n",
       "75%    270.000000    1.000000  \n",
       "max    360.000000    1.000000  "
      ]
     },
     "execution_count": 68,
     "metadata": {},
     "output_type": "execute_result"
    }
   ],
   "source": [
    "train_set.describe()"
   ]
  },
  {
   "cell_type": "code",
   "execution_count": 69,
   "metadata": {},
   "outputs": [
    {
     "data": {
      "text/plain": [
       "풍속         4.423451\n",
       "풍향       114.093293\n",
       "gust       5.951411\n",
       "기압         9.485601\n",
       "습도        15.201784\n",
       "기온         8.040306\n",
       "수온         5.987721\n",
       "최대파고       2.216564\n",
       "유의파고       1.474427\n",
       "평균파고       0.988472\n",
       "파주기        2.409785\n",
       "파향        97.201919\n",
       "label      0.500409\n",
       "dtype: float64"
      ]
     },
     "execution_count": 69,
     "metadata": {},
     "output_type": "execute_result"
    }
   ],
   "source": [
    "train_set.std() "
   ]
  },
  {
   "cell_type": "markdown",
   "metadata": {},
   "source": [
    "##  decision Tree"
   ]
  },
  {
   "cell_type": "code",
   "execution_count": 144,
   "metadata": {},
   "outputs": [],
   "source": [
    "from sklearn.tree import DecisionTreeClassifier\n",
    "from sklearn import tree"
   ]
  },
  {
   "cell_type": "code",
   "execution_count": 145,
   "metadata": {},
   "outputs": [
    {
     "data": {
      "text/plain": [
       "DecisionTreeClassifier(class_weight=None, criterion='gini', max_depth=None,\n",
       "            max_features=None, max_leaf_nodes=None,\n",
       "            min_impurity_decrease=0.0, min_impurity_split=None,\n",
       "            min_samples_leaf=1, min_samples_split=2,\n",
       "            min_weight_fraction_leaf=0.0, presort=False, random_state=None,\n",
       "            splitter='best')"
      ]
     },
     "execution_count": 145,
     "metadata": {},
     "output_type": "execute_result"
    }
   ],
   "source": [
    "dtc = DecisionTreeClassifier()\n",
    "dtc.fit(x_tr,label_tr)"
   ]
  },
  {
   "cell_type": "code",
   "execution_count": 146,
   "metadata": {},
   "outputs": [],
   "source": [
    "#데이터 예측하기\n",
    "dtc_pred = dtc.predict(x_t)"
   ]
  },
  {
   "cell_type": "code",
   "execution_count": 147,
   "metadata": {},
   "outputs": [
    {
     "name": "stdout",
     "output_type": "stream",
     "text": [
      "\n",
      " *Confusion Matrix* \n",
      "\n",
      "[[93609 63297]\n",
      " [   36    66]]\n",
      "\n",
      " *Classification Report* \n",
      "\n",
      "             precision    recall  f1-score   support\n",
      "\n",
      "          0       1.00      0.60      0.75    156906\n",
      "          1       0.00      0.65      0.00       102\n",
      "\n",
      "avg / total       1.00      0.60      0.75    157008\n",
      "\n"
     ]
    }
   ],
   "source": [
    "#데이터 검증\n",
    "print(\"\\n *Confusion Matrix* \\n\")\n",
    "print(confusion_matrix(label_t, dtc_pred))\n",
    "print(\"\\n *Classification Report* \\n\")\n",
    "print(metrics.classification_report(label_t, dtc_pred))"
   ]
  },
  {
   "cell_type": "code",
   "execution_count": 148,
   "metadata": {},
   "outputs": [],
   "source": [
    "p = dtc.predict_proba(x_t)"
   ]
  },
  {
   "cell_type": "code",
   "execution_count": 149,
   "metadata": {},
   "outputs": [
    {
     "data": {
      "text/plain": [
       "array([[0., 1.],\n",
       "       [0., 1.],\n",
       "       [0., 1.],\n",
       "       ...,\n",
       "       [0., 1.],\n",
       "       [0., 1.],\n",
       "       [0., 1.]])"
      ]
     },
     "execution_count": 149,
     "metadata": {},
     "output_type": "execute_result"
    }
   ],
   "source": [
    "p"
   ]
  },
  {
   "cell_type": "code",
   "execution_count": 150,
   "metadata": {},
   "outputs": [
    {
     "data": {
      "image/png": "[encoded data removed]",
      "text/plain": [
       "<Figure size 432x288 with 1 Axes>"
      ]
     },
     "metadata": {},
     "output_type": "display_data"
    }
   ],
   "source": [
    "dtc_proba = dtc.predict_proba(x_t)[::,1]\n",
    "fpr_dtc, tpr_dtc, _ = metrics.roc_curve(label_t,  dtc_proba)\n",
    "auc_dtc = metrics.roc_auc_score(label_t, dtc_proba)\n",
    "plt.plot([0, 1], [0, 1], 'k--')\n",
    "plt.plot(fpr_dtc,tpr_dtc,label=\"decision tree, auc=\"+str(auc_dtc))\n",
    "plt.legend(loc=4)\n",
    "plt.show()\n"
   ]
  },
  {
   "cell_type": "markdown",
   "metadata": {},
   "source": [
    "## Random Forest"
   ]
  },
  {
   "cell_type": "code",
   "execution_count": 81,
   "metadata": {},
   "outputs": [],
   "source": [
    "from sklearn.ensemble import RandomForestClassifier"
   ]
  },
  {
   "cell_type": "code",
   "execution_count": 167,
   "metadata": {},
   "outputs": [
    {
     "data": {
      "text/plain": [
       "RandomForestClassifier(bootstrap=True, class_weight=None, criterion='gini',\n",
       "            max_depth=None, max_features='auto', max_leaf_nodes=None,\n",
       "            min_impurity_decrease=0.0, min_impurity_split=None,\n",
       "            min_samples_leaf=1, min_samples_split=2,\n",
       "            min_weight_fraction_leaf=0.0, n_estimators=100, n_jobs=1,\n",
       "            oob_score='Ture', random_state=None, verbose=0,\n",
       "            warm_start=False)"
      ]
     },
     "execution_count": 167,
     "metadata": {},
     "output_type": "execute_result"
    }
   ],
   "source": [
    "#데이터 학습시키기\n",
    "rdc = RandomForestClassifier(n_estimators=100, oob_score='Ture')\n",
    "rdc.fit(x_tr, label_tr)"
   ]
  },
  {
   "cell_type": "code",
   "execution_count": 168,
   "metadata": {},
   "outputs": [],
   "source": [
    "#데이터 예측하기\n",
    "rdc_pred = rdc.predict(x_t)"
   ]
  },
  {
   "cell_type": "code",
   "execution_count": 169,
   "metadata": {},
   "outputs": [
    {
     "name": "stdout",
     "output_type": "stream",
     "text": [
      "\n",
      " *Confusion Matrix* \n",
      "\n",
      "[[109168  47738]\n",
      " [    28     74]]\n",
      "\n",
      " *Classification Report* \n",
      "\n",
      "             precision    recall  f1-score   support\n",
      "\n",
      "          0       1.00      0.70      0.82    156906\n",
      "          1       0.00      0.73      0.00       102\n",
      "\n",
      "avg / total       1.00      0.70      0.82    157008\n",
      "\n"
     ]
    }
   ],
   "source": [
    "#데이터 검증\n",
    "print(\"\\n *Confusion Matrix* \\n\")\n",
    "print(confusion_matrix(label_t, rdc_pred))\n",
    "print(\"\\n *Classification Report* \\n\")\n",
    "print(metrics.classification_report(label_t, rdc_pred))\n",
    "\n",
    "# 51 61"
   ]
  },
  {
   "cell_type": "code",
   "execution_count": 172,
   "metadata": {},
   "outputs": [
    {
     "data": {
      "text/plain": [
       "array([[0.4       , 0.6       ],\n",
       "       [0.4375    , 0.5625    ],\n",
       "       [0.75757576, 0.24242424],\n",
       "       ...,\n",
       "       [0.43589744, 0.56410256],\n",
       "       [0.25641026, 0.74358974],\n",
       "       [0.8       , 0.2       ]])"
      ]
     },
     "execution_count": 172,
     "metadata": {},
     "output_type": "execute_result"
    }
   ],
   "source": [
    "rdc.oob_decision_function_"
   ]
  },
  {
   "cell_type": "code",
   "execution_count": 157,
   "metadata": {},
   "outputs": [],
   "source": [
    "p = rdc.predict_proba(x_t)"
   ]
  },
  {
   "cell_type": "code",
   "execution_count": 158,
   "metadata": {},
   "outputs": [
    {
     "data": {
      "text/plain": [
       "array([[0.08, 0.92],\n",
       "       [0.5 , 0.5 ],\n",
       "       [0.34, 0.66],\n",
       "       ...,\n",
       "       [0.35, 0.65],\n",
       "       [0.18, 0.82],\n",
       "       [0.34, 0.66]])"
      ]
     },
     "execution_count": 158,
     "metadata": {},
     "output_type": "execute_result"
    }
   ],
   "source": [
    "p"
   ]
  },
  {
   "cell_type": "code",
   "execution_count": 159,
   "metadata": {},
   "outputs": [
    {
     "data": {
      "text/plain": [
       "array([0.23, 0.77])"
      ]
     },
     "execution_count": 159,
     "metadata": {},
     "output_type": "execute_result"
    }
   ],
   "source": [
    "p[3]"
   ]
  },
  {
   "cell_type": "code",
   "execution_count": 102,
   "metadata": {},
   "outputs": [
    {
     "data": {
      "text/html": [
       "<div>\n",
       "<style scoped>\n",
       "    .dataframe tbody tr th:only-of-type {\n",
       "        vertical-align: middle;\n",
       "    }\n",
       "\n",
       "    .dataframe tbody tr th {\n",
       "        vertical-align: top;\n",
       "    }\n",
       "\n",
       "    .dataframe thead th {\n",
       "        text-align: right;\n",
       "    }\n",
       "</style>\n",
       "<table border=\"1\" class=\"dataframe\">\n",
       "  <thead>\n",
       "    <tr style=\"text-align: right;\">\n",
       "      <th></th>\n",
       "      <th>풍속</th>\n",
       "      <th>풍향</th>\n",
       "      <th>gust</th>\n",
       "      <th>기압</th>\n",
       "      <th>습도</th>\n",
       "      <th>기온</th>\n",
       "      <th>수온</th>\n",
       "      <th>최대파고</th>\n",
       "      <th>유의파고</th>\n",
       "      <th>평균파고</th>\n",
       "      <th>파주기</th>\n",
       "      <th>파향</th>\n",
       "    </tr>\n",
       "  </thead>\n",
       "  <tbody>\n",
       "    <tr>\n",
       "      <th>0</th>\n",
       "      <td>15.4</td>\n",
       "      <td>352.0</td>\n",
       "      <td>22.6</td>\n",
       "      <td>1010.6</td>\n",
       "      <td>81.0</td>\n",
       "      <td>5.4</td>\n",
       "      <td>14.7</td>\n",
       "      <td>12.7</td>\n",
       "      <td>8.0</td>\n",
       "      <td>4.0</td>\n",
       "      <td>6.4</td>\n",
       "      <td>16.0</td>\n",
       "    </tr>\n",
       "    <tr>\n",
       "      <th>1</th>\n",
       "      <td>7.0</td>\n",
       "      <td>211.0</td>\n",
       "      <td>7.9</td>\n",
       "      <td>1000.8</td>\n",
       "      <td>93.0</td>\n",
       "      <td>20.1</td>\n",
       "      <td>18.7</td>\n",
       "      <td>1.1</td>\n",
       "      <td>0.7</td>\n",
       "      <td>0.5</td>\n",
       "      <td>3.8</td>\n",
       "      <td>340.0</td>\n",
       "    </tr>\n",
       "    <tr>\n",
       "      <th>2</th>\n",
       "      <td>5.7</td>\n",
       "      <td>306.0</td>\n",
       "      <td>7.4</td>\n",
       "      <td>1019.0</td>\n",
       "      <td>97.0</td>\n",
       "      <td>7.0</td>\n",
       "      <td>6.2</td>\n",
       "      <td>0.6</td>\n",
       "      <td>0.3</td>\n",
       "      <td>0.2</td>\n",
       "      <td>3.6</td>\n",
       "      <td>274.0</td>\n",
       "    </tr>\n",
       "    <tr>\n",
       "      <th>3</th>\n",
       "      <td>5.7</td>\n",
       "      <td>185.0</td>\n",
       "      <td>6.9</td>\n",
       "      <td>1008.2</td>\n",
       "      <td>93.0</td>\n",
       "      <td>12.2</td>\n",
       "      <td>10.3</td>\n",
       "      <td>0.5</td>\n",
       "      <td>0.3</td>\n",
       "      <td>0.2</td>\n",
       "      <td>3.6</td>\n",
       "      <td>284.0</td>\n",
       "    </tr>\n",
       "    <tr>\n",
       "      <th>4</th>\n",
       "      <td>2.5</td>\n",
       "      <td>8.0</td>\n",
       "      <td>3.3</td>\n",
       "      <td>1018.0</td>\n",
       "      <td>97.0</td>\n",
       "      <td>16.1</td>\n",
       "      <td>17.0</td>\n",
       "      <td>0.8</td>\n",
       "      <td>0.5</td>\n",
       "      <td>0.2</td>\n",
       "      <td>4.3</td>\n",
       "      <td>289.0</td>\n",
       "    </tr>\n",
       "  </tbody>\n",
       "</table>\n",
       "</div>"
      ],
      "text/plain": [
       "     풍속     풍향  gust      기압    습도    기온    수온  최대파고  유의파고  평균파고  파주기     파향\n",
       "0  15.4  352.0  22.6  1010.6  81.0   5.4  14.7  12.7   8.0   4.0  6.4   16.0\n",
       "1   7.0  211.0   7.9  1000.8  93.0  20.1  18.7   1.1   0.7   0.5  3.8  340.0\n",
       "2   5.7  306.0   7.4  1019.0  97.0   7.0   6.2   0.6   0.3   0.2  3.6  274.0\n",
       "3   5.7  185.0   6.9  1008.2  93.0  12.2  10.3   0.5   0.3   0.2  3.6  284.0\n",
       "4   2.5    8.0   3.3  1018.0  97.0  16.1  17.0   0.8   0.5   0.2  4.3  289.0"
      ]
     },
     "execution_count": 102,
     "metadata": {},
     "output_type": "execute_result"
    }
   ],
   "source": [
    "x_t.head()"
   ]
  },
  {
   "cell_type": "code",
   "execution_count": 103,
   "metadata": {},
   "outputs": [
    {
     "data": {
      "image/png": "[encoded data removed]",
      "text/plain": [
       "<Figure size 432x288 with 1 Axes>"
      ]
     },
     "metadata": {},
     "output_type": "display_data"
    }
   ],
   "source": [
    "rdc_proba = rdc.predict_proba(x_t)[::,1]\n",
    "fpr_rdc, tpr_rdc, _ = metrics.roc_curve(label_t,  rdc_proba)\n",
    "plt.plot([0, 1], [0, 1], 'k--',)\n",
    "auc_rdc = metrics.roc_auc_score(label_t, rdc_proba)\n",
    "plt.plot(fpr_rdc,tpr_rdc,label=\"random forest, auc=\"+str(auc_rdc))\n",
    "plt.legend(loc=4)\n",
    "plt.show()\n"
   ]
  },
  {
   "cell_type": "code",
   "execution_count": 160,
   "metadata": {},
   "outputs": [
    {
     "name": "stdout",
     "output_type": "stream",
     "text": [
      "6462\n",
      "21478\n",
      "41162\n",
      "54230\n",
      "25834\n"
     ]
    }
   ],
   "source": [
    "count_A = 0\n",
    "count_B = 0\n",
    "count_C = 0\n",
    "count_D = 0\n",
    "count_E = 0\n",
    "\n",
    "\n",
    "\n",
    "for i in range(0, len(p)):\n",
    "    if 0.80< p[i][1]:\n",
    "        count_A +=1\n",
    "    elif 0.6 < p[i][1] <0.8:\n",
    "        count_B += 1\n",
    "    elif 0.4 < p[i][1] <0.6:\n",
    "        count_C += 1   \n",
    "    elif 0.2 < p[i][1] <0.4:\n",
    "        count_D += 1\n",
    "    elif p[i][1] < 0.2:\n",
    "        count_E += 1\n",
    "        \n",
    "print(count_A)\n",
    "print(count_B)\n",
    "print(count_C)\n",
    "print(count_D)\n",
    "print(count_E)"
   ]
  },
  {
   "cell_type": "code",
   "execution_count": 161,
   "metadata": {},
   "outputs": [
    {
     "name": "stdout",
     "output_type": "stream",
     "text": [
      "0.01622210333231428\n",
      "0.13533705288902476\n",
      "0.35470167125242025\n",
      "0.36782839091001734\n",
      "0.12591078161622338\n"
     ]
    }
   ],
   "source": [
    "print(A)\n",
    "print(B)\n",
    "print(C)\n",
    "print(D)\n",
    "print(E)"
   ]
  },
  {
   "cell_type": "markdown",
   "metadata": {},
   "source": [
    "## Navie Bayes"
   ]
  },
  {
   "cell_type": "code",
   "execution_count": 104,
   "metadata": {},
   "outputs": [],
   "source": [
    "from sklearn.naive_bayes import GaussianNB"
   ]
  },
  {
   "cell_type": "code",
   "execution_count": 108,
   "metadata": {},
   "outputs": [
    {
     "data": {
      "text/plain": [
       "GaussianNB(priors=None)"
      ]
     },
     "execution_count": 108,
     "metadata": {},
     "output_type": "execute_result"
    }
   ],
   "source": [
    "nb = GaussianNB()\n",
    "nb.fit(x_tr,label_tr)"
   ]
  },
  {
   "cell_type": "code",
   "execution_count": 109,
   "metadata": {},
   "outputs": [],
   "source": [
    "nb_pred = nb.predict(x_t)"
   ]
  },
  {
   "cell_type": "code",
   "execution_count": 110,
   "metadata": {},
   "outputs": [
    {
     "name": "stdout",
     "output_type": "stream",
     "text": [
      "\n",
      " *Confusion Matrix* \n",
      "\n",
      "[[139579  17327]\n",
      " [    60     42]]\n",
      "\n",
      " *Classification Report* \n",
      "\n",
      "             precision    recall  f1-score   support\n",
      "\n",
      "          0       1.00      0.89      0.94    156906\n",
      "          1       0.00      0.41      0.00       102\n",
      "\n",
      "avg / total       1.00      0.89      0.94    157008\n",
      "\n"
     ]
    }
   ],
   "source": [
    "#데이터 검증\n",
    "print(\"\\n *Confusion Matrix* \\n\")\n",
    "print(confusion_matrix(label_t, nb_pred))\n",
    "print(\"\\n *Classification Report* \\n\")\n",
    "print(metrics.classification_report(label_t, nb_pred))\n",
    "\n",
    "# 51 61"
   ]
  },
  {
   "cell_type": "code",
   "execution_count": 111,
   "metadata": {},
   "outputs": [],
   "source": [
    "p = nb.predict_proba(x_t)"
   ]
  },
  {
   "cell_type": "code",
   "execution_count": 112,
   "metadata": {},
   "outputs": [
    {
     "data": {
      "text/plain": [
       "array([[6.35331657e-49, 1.00000000e+00],\n",
       "       [9.23219227e-01, 7.67807735e-02],\n",
       "       [9.79914776e-01, 2.00852240e-02],\n",
       "       ...,\n",
       "       [8.59506410e-01, 1.40493590e-01],\n",
       "       [7.42210000e-03, 9.92577900e-01],\n",
       "       [1.52398724e-02, 9.84760128e-01]])"
      ]
     },
     "execution_count": 112,
     "metadata": {},
     "output_type": "execute_result"
    }
   ],
   "source": [
    "p"
   ]
  },
  {
   "cell_type": "code",
   "execution_count": 113,
   "metadata": {},
   "outputs": [
    {
     "data": {
      "image/png": "[encoded data removed]",
      "text/plain": [
       "<Figure size 432x288 with 1 Axes>"
      ]
     },
     "metadata": {},
     "output_type": "display_data"
    }
   ],
   "source": [
    "nb_proba = nb.predict_proba(x_t)[::,1]\n",
    "fpr_nb, tpr_nb, _ = metrics.roc_curve(label_t,  nb_proba)\n",
    "plt.plot([0, 1], [0, 1], 'k--', )\n",
    "auc_nb = metrics.roc_auc_score(label_t, nb_proba)\n",
    "plt.plot(fpr_nb,tpr_nb,label=\"Naive Bayes, auc=\"+str(auc_nb))\n",
    "plt.legend(loc=4)\n",
    "plt.show()\n"
   ]
  },
  {
   "cell_type": "markdown",
   "metadata": {},
   "source": [
    "## QDA"
   ]
  },
  {
   "cell_type": "code",
   "execution_count": 114,
   "metadata": {},
   "outputs": [
    {
     "data": {
      "text/plain": [
       "QuadraticDiscriminantAnalysis(priors=None, reg_param=0.0,\n",
       "               store_covariance=False, store_covariances=None, tol=0.0001)"
      ]
     },
     "execution_count": 114,
     "metadata": {},
     "output_type": "execute_result"
    }
   ],
   "source": [
    "from sklearn.discriminant_analysis import QuadraticDiscriminantAnalysis\n",
    "qda = QuadraticDiscriminantAnalysis()\n",
    "qda.fit(x_tr, label_tr)"
   ]
  },
  {
   "cell_type": "code",
   "execution_count": 115,
   "metadata": {},
   "outputs": [],
   "source": [
    "qda_pred = qda.predict(x_t)"
   ]
  },
  {
   "cell_type": "code",
   "execution_count": 116,
   "metadata": {},
   "outputs": [
    {
     "name": "stdout",
     "output_type": "stream",
     "text": [
      "\n",
      " *Confusion Matrix* \n",
      "\n",
      "[[137212  19694]\n",
      " [    63     39]]\n",
      "\n",
      " *Classification Report* \n",
      "\n",
      "             precision    recall  f1-score   support\n",
      "\n",
      "          0       1.00      0.87      0.93    156906\n",
      "          1       0.00      0.38      0.00       102\n",
      "\n",
      "avg / total       1.00      0.87      0.93    157008\n",
      "\n"
     ]
    }
   ],
   "source": [
    "#데이터 검증\n",
    "print(\"\\n *Confusion Matrix* \\n\")\n",
    "print(confusion_matrix(label_t, qda_pred))\n",
    "print(\"\\n *Classification Report* \\n\")\n",
    "print(metrics.classification_report(label_t, qda_pred))\n",
    "\n",
    "# 51 61"
   ]
  },
  {
   "cell_type": "code",
   "execution_count": 117,
   "metadata": {},
   "outputs": [],
   "source": [
    "p = qda.predict_proba(x_t)"
   ]
  },
  {
   "cell_type": "code",
   "execution_count": 118,
   "metadata": {},
   "outputs": [
    {
     "data": {
      "text/plain": [
       "array([[5.33879162e-31, 1.00000000e+00],\n",
       "       [8.01748688e-01, 1.98251312e-01],\n",
       "       [8.55112254e-01, 1.44887746e-01],\n",
       "       ...,\n",
       "       [7.15183398e-01, 2.84816602e-01],\n",
       "       [6.65634555e-01, 3.34365445e-01],\n",
       "       [8.46951919e-01, 1.53048081e-01]])"
      ]
     },
     "execution_count": 118,
     "metadata": {},
     "output_type": "execute_result"
    }
   ],
   "source": [
    "p"
   ]
  },
  {
   "cell_type": "code",
   "execution_count": 119,
   "metadata": {
    "scrolled": true
   },
   "outputs": [
    {
     "data": {
      "image/png": "[encoded data removed]",
      "text/plain": [
       "<Figure size 432x288 with 1 Axes>"
      ]
     },
     "metadata": {},
     "output_type": "display_data"
    }
   ],
   "source": [
    "qda_proba = qda.predict_proba(x_t)[::,1]\n",
    "fpr_qda, tpr_qda, _ = metrics.roc_curve(label_t,  qda_proba)\n",
    "plt.plot([0, 1], [0, 1], 'k--', )\n",
    "auc_qda = metrics.roc_auc_score(label_t, qda_proba)\n",
    "plt.plot(fpr_qda,tpr_qda,label=\"QDA, auc=\"+str(auc_qda))\n",
    "plt.legend(loc=4)\n",
    "plt.show()\n"
   ]
  },
  {
   "cell_type": "markdown",
   "metadata": {},
   "source": [
    "## KNN"
   ]
  },
  {
   "cell_type": "code",
   "execution_count": 120,
   "metadata": {},
   "outputs": [
    {
     "data": {
      "text/plain": [
       "KNeighborsClassifier(algorithm='auto', leaf_size=30, metric='minkowski',\n",
       "           metric_params=None, n_jobs=1, n_neighbors=5, p=2,\n",
       "           weights='uniform')"
      ]
     },
     "execution_count": 120,
     "metadata": {},
     "output_type": "execute_result"
    }
   ],
   "source": [
    "from sklearn.neighbors import KNeighborsClassifier\n",
    "knn = KNeighborsClassifier()\n",
    "knn.fit(x_tr, label_tr) "
   ]
  },
  {
   "cell_type": "code",
   "execution_count": 121,
   "metadata": {},
   "outputs": [],
   "source": [
    "knn_pred = knn.predict(x_t)"
   ]
  },
  {
   "cell_type": "code",
   "execution_count": 122,
   "metadata": {},
   "outputs": [
    {
     "name": "stdout",
     "output_type": "stream",
     "text": [
      "\n",
      " *Confusion Matrix* \n",
      "\n",
      "[[89059 67847]\n",
      " [   39    63]]\n",
      "\n",
      " *Classification Report* \n",
      "\n",
      "             precision    recall  f1-score   support\n",
      "\n",
      "          0       1.00      0.57      0.72    156906\n",
      "          1       0.00      0.62      0.00       102\n",
      "\n",
      "avg / total       1.00      0.57      0.72    157008\n",
      "\n"
     ]
    }
   ],
   "source": [
    "#데이터 검증\n",
    "print(\"\\n *Confusion Matrix* \\n\")\n",
    "print(confusion_matrix(label_t, knn_pred))\n",
    "print(\"\\n *Classification Report* \\n\")\n",
    "print(metrics.classification_report(label_t, knn_pred))\n",
    "\n",
    "# 51 61"
   ]
  },
  {
   "cell_type": "code",
   "execution_count": 123,
   "metadata": {},
   "outputs": [],
   "source": [
    "p = knn.predict_proba(x_t)"
   ]
  },
  {
   "cell_type": "code",
   "execution_count": 124,
   "metadata": {},
   "outputs": [
    {
     "data": {
      "text/plain": [
       "array([[0.6, 0.4],\n",
       "       [0.6, 0.4],\n",
       "       [0. , 1. ],\n",
       "       ...,\n",
       "       [0.8, 0.2],\n",
       "       [0.2, 0.8],\n",
       "       [0.6, 0.4]])"
      ]
     },
     "execution_count": 124,
     "metadata": {},
     "output_type": "execute_result"
    }
   ],
   "source": [
    "p"
   ]
  },
  {
   "cell_type": "code",
   "execution_count": 125,
   "metadata": {},
   "outputs": [
    {
     "data": {
      "image/png": "[encoded data removed]",
      "text/plain": [
       "<Figure size 432x288 with 1 Axes>"
      ]
     },
     "metadata": {},
     "output_type": "display_data"
    }
   ],
   "source": [
    "knn_proba = knn.predict_proba(x_t)[::,1]\n",
    "fpr_knn, tpr_knn, _ = metrics.roc_curve(label_t,  knn_proba)\n",
    "plt.plot([0, 1], [0, 1], 'k--')\n",
    "auc_knn = metrics.roc_auc_score(label_t, knn_proba)\n",
    "plt.plot(fpr_knn,tpr_knn,label=\"knn, auc=\"+str(auc_knn))\n",
    "plt.legend(loc=4)\n",
    "plt.show()\n"
   ]
  },
  {
   "cell_type": "markdown",
   "metadata": {},
   "source": [
    "## LDA"
   ]
  },
  {
   "cell_type": "code",
   "execution_count": 140,
   "metadata": {},
   "outputs": [],
   "source": [
    "from sklearn.discriminant_analysis import LinearDiscriminantAnalysis as LDA"
   ]
  },
  {
   "cell_type": "code",
   "execution_count": 141,
   "metadata": {},
   "outputs": [
    {
     "data": {
      "text/plain": [
       "LinearDiscriminantAnalysis(n_components=None, priors=None, shrinkage=None,\n",
       "              solver='svd', store_covariance=False, tol=0.0001)"
      ]
     },
     "execution_count": 141,
     "metadata": {},
     "output_type": "execute_result"
    }
   ],
   "source": [
    "lda = LDA()\n",
    "lda.fit(x_tr, label_tr)"
   ]
  },
  {
   "cell_type": "code",
   "execution_count": 142,
   "metadata": {},
   "outputs": [],
   "source": [
    "lda_pred = lda.predict(x_t)"
   ]
  },
  {
   "cell_type": "code",
   "execution_count": 143,
   "metadata": {},
   "outputs": [
    {
     "name": "stdout",
     "output_type": "stream",
     "text": [
      "\n",
      " *Confusion Matrix* \n",
      "\n",
      "[[108562  48344]\n",
      " [    42     60]]\n",
      "\n",
      " *Classification Report* \n",
      "\n",
      "             precision    recall  f1-score   support\n",
      "\n",
      "          0       1.00      0.69      0.82    156906\n",
      "          1       0.00      0.59      0.00       102\n",
      "\n",
      "avg / total       1.00      0.69      0.82    157008\n",
      "\n"
     ]
    }
   ],
   "source": [
    "#데이터 검증\n",
    "print(\"\\n *Confusion Matrix* \\n\")\n",
    "print(confusion_matrix(label_t, lda_pred))\n",
    "print(\"\\n *Classification Report* \\n\")\n",
    "print(metrics.classification_report(label_t, lda_pred))\n",
    "\n",
    "# 51 61"
   ]
  },
  {
   "cell_type": "code",
   "execution_count": 130,
   "metadata": {},
   "outputs": [],
   "source": [
    "p = lda.predict_proba(x_t)"
   ]
  },
  {
   "cell_type": "code",
   "execution_count": 131,
   "metadata": {},
   "outputs": [
    {
     "data": {
      "text/plain": [
       "array([[0.15025793, 0.84974207],\n",
       "       [0.27466838, 0.72533162],\n",
       "       [0.30809304, 0.69190696],\n",
       "       ...,\n",
       "       [0.29173209, 0.70826791],\n",
       "       [0.47272586, 0.52727414],\n",
       "       [0.54045565, 0.45954435]])"
      ]
     },
     "execution_count": 131,
     "metadata": {},
     "output_type": "execute_result"
    }
   ],
   "source": [
    "p"
   ]
  },
  {
   "cell_type": "code",
   "execution_count": 132,
   "metadata": {},
   "outputs": [
    {
     "data": {
      "text/plain": [
       "array([0.32016733, 0.67983267])"
      ]
     },
     "execution_count": 132,
     "metadata": {},
     "output_type": "execute_result"
    }
   ],
   "source": [
    "p[3]"
   ]
  },
  {
   "cell_type": "code",
   "execution_count": 133,
   "metadata": {},
   "outputs": [
    {
     "data": {
      "text/plain": [
       "0.6798326654998246"
      ]
     },
     "execution_count": 133,
     "metadata": {},
     "output_type": "execute_result"
    }
   ],
   "source": [
    "p[3][1]"
   ]
  },
  {
   "cell_type": "code",
   "execution_count": 138,
   "metadata": {},
   "outputs": [
    {
     "data": {
      "image/png": "[encoded data removed]",
      "text/plain": [
       "<Figure size 432x288 with 1 Axes>"
      ]
     },
     "metadata": {},
     "output_type": "display_data"
    }
   ],
   "source": [
    "lda_proba = lda.predict_proba(x_t)[::,1]\n",
    "fpr_lda, tpr_lda, _ = metrics.roc_curve(label_t,  lda_proba)\n",
    "plt.plot([0, 1], [0, 1], 'k--', )\n",
    "auc_lda = metrics.roc_auc_score(label_t, lda_proba)\n",
    "plt.plot(fpr_lda,tpr_lda,label=\"LDA, auc=\"+str(auc_lda))\n",
    "plt.legend(loc=4)\n",
    "plt.show()\n"
   ]
  },
  {
   "cell_type": "markdown",
   "metadata": {},
   "source": [
    "### 그래프"
   ]
  },
  {
   "cell_type": "code",
   "execution_count": 151,
   "metadata": {},
   "outputs": [
    {
     "data": {
      "image/png": "[encoded data removed]",
      "text/plain": [
       "<Figure size 1080x720 with 1 Axes>"
      ]
     },
     "metadata": {},
     "output_type": "display_data"
    }
   ],
   "source": [
    "plt.figure(figsize=(15,10))\n",
    "plt.plot(fpr_log,tpr_log,label=\"logistic regression, auc=\"+str(auc_log))\n",
    "plt.plot(fpr_dtc,tpr_dtc,label=\"decision tree, auc=\"+str(auc_dtc))\n",
    "plt.plot(fpr_rdc,tpr_rdc,label=\"random forest, auc=\"+str(auc_rdc))\n",
    "plt.plot(fpr_knn,tpr_knn,label=\"KNN, auc=\"+str(auc_knn))\n",
    "plt.plot(fpr_lda,tpr_lda,label=\"LDA, auc=\"+str(auc_lda))\n",
    "plt.legend(loc=4)\n",
    "plt.show()\n"
   ]
  }
 ],
 "metadata": {
  "kernelspec": {
   "display_name": "Python 3",
   "language": "python",
   "name": "python3"
  },
  "language_info": {
   "codemirror_mode": {
    "name": "ipython",
    "version": 3
   },
   "file_extension": ".py",
   "mimetype": "text/x-python",
   "name": "python",
   "nbconvert_exporter": "python",
   "pygments_lexer": "ipython3",
   "version": "3.6.6"
  }
 },
 "nbformat": 4,
 "nbformat_minor": 2
}
